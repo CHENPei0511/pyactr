{
 "cells": [
  {
   "cell_type": "markdown",
   "metadata": {},
   "source": [
    "# Example: Count model"
   ]
  },
  {
   "cell_type": "markdown",
   "metadata": {},
   "source": [
    "## Introduction"
   ]
  },
  {
   "cell_type": "markdown",
   "metadata": {},
   "source": [
    "This introduction shows the construction of the count model, discussed as the first model in LispACT-R. It is assumed that the reader is familiar with ACT-R. An introduction to ACT-R can be found in the paper \"An integrated theory of the mind\", which is available on the ACT-R website at: http://act-r.psy.cmu.edu/?post_type=publications&p=13623. Further details can also be found in LispACT-R units.\n",
    "\n"
   ]
  },
  {
   "cell_type": "markdown",
   "metadata": {
    "collapsed": true
   },
   "source": [
    "We import the package and create the relevant model (the model is in detail explained below)."
   ]
  },
  {
   "cell_type": "code",
   "execution_count": 1,
   "metadata": {
    "collapsed": true
   },
   "outputs": [],
   "source": [
    "from pyactr.model import ACTRModel"
   ]
  },
  {
   "cell_type": "code",
   "execution_count": 2,
   "metadata": {
    "collapsed": true
   },
   "outputs": [],
   "source": [
    "counting = ACTRModel()\n",
    "#initialize ACTRModel\n",
    "\n",
    "#Each chunk type should be defined first.\n",
    "counting.chunktype(\"countOrder\", (\"first\", \"second\"))\n",
    "#Chunk type is defined as (name, attributes)\n",
    "\n",
    "#Attributes are written as an iterable (above) or as a string, separated by comma:\n",
    "counting.chunktype(\"countOrder\", \"first, second\")\n",
    "\n",
    "#create declarative memory\n",
    "dm = counting.DecMem()\n",
    "\n",
    "for i in range(1, 6):\n",
    "    dm.add(counting.Chunk(\"countOrder\", first=i, second=i+1))\n",
    "    #adding chunks to declarative memory\n",
    "\n",
    "#create buffer for dm    \n",
    "counting.dmBuffer(\"retrieval\", dm)\n",
    "    \n",
    "#create goal buffer\n",
    "g = counting.goal(\"g\")\n",
    "\n",
    "\n",
    "counting.chunktype(\"countFrom\", (\"start\", \"end\", \"count\"))\n",
    "#add chunk to goal buffer\n",
    "g.add(counting.Chunk(\"countFrom\", start=2, end=4))\n",
    "    \n",
    "#production rules:\n",
    "def start():\n",
    "    yield {\"=g\":counting.Chunk(\"countFrom\", start=\"=x\", count=None)}\n",
    "    yield {\"=g\":counting.Chunk(\"countFrom\", count=\"=x\"),\n",
    "                \"+retrieval\": counting.Chunk(\"countOrder\", first=\"=x\")}\n",
    "#e.g., this rule would look as follows in Lisp ACT-R:\n",
    "#(p\n",
    "#(p start\n",
    "#=goal>\n",
    "#  ISA         countFrom\n",
    "#  start       =x\n",
    "#  count       nil\n",
    "#==>\n",
    "#=goal>\n",
    "#  ISA         countFrom\n",
    "#  count       =x\n",
    "#+retrieval>\n",
    "#  ISA         countOrder\n",
    "#  first       =x\n",
    "#)\n",
    "\n",
    "def increment():\n",
    "    yield {\"=g\":counting.Chunk(\"countFrom\", count=\"=x\", end=\"~=x\"),\n",
    "                \"=retrieval\": counting.Chunk(\"countOrder\", first=\"=x\", second=\"=y\")}\n",
    "    yield {\"=g\":counting.Chunk(\"countFrom\", count=\"=y\"),\n",
    "                \"+retrieval\": counting.Chunk(\"countOrder\", first=\"=y\")}\n",
    "\n",
    "def stop():\n",
    "    yield {\"=g\":counting.Chunk(\"countFrom\", count=\"=x\", end=\"=x\")}\n",
    "    yield {\"!g\": (\"clear\", (0, counting.DecMem()))}\n",
    "\n",
    "#add all rules into productions\n",
    "counting.productions(start, increment, stop)\n",
    "\n"
   ]
  },
  {
   "cell_type": "markdown",
   "metadata": {},
   "source": [
    "The model has a method \"simulation\", which creates a discrete event simulation. This can be run to produce the output of the simulation (trace of the model)."
   ]
  },
  {
   "cell_type": "code",
   "execution_count": 3,
   "metadata": {
    "collapsed": false
   },
   "outputs": [
    {
     "name": "stdout",
     "output_type": "stream",
     "text": [
      "(0, 'PROCEDURAL', 'CONFLICT RESOLUTION')\n",
      "(0, 'PROCEDURAL', 'RULE SELECTED: start')\n",
      "(0.05, 'PROCEDURAL', 'RULE FIRED: start')\n",
      "(0.05, 'g', 'MODIFIED')\n",
      "(0.05, 'retrieval', 'START RETRIEVAL')\n",
      "(0.05, 'PROCEDURAL', 'CONFLICT RESOLUTION')\n",
      "(0.05, 'PROCEDURAL', 'NO RULE FOUND')\n",
      "(0.1, 'retrieval', 'CLEARED')\n",
      "(0.1, 'retrieval', 'RETRIEVED: countOrder(first=2, second=3)')\n",
      "(0.1, 'PROCEDURAL', 'CONFLICT RESOLUTION')\n",
      "(0.1, 'PROCEDURAL', 'RULE SELECTED: increment')\n",
      "(0.15, 'PROCEDURAL', 'RULE FIRED: increment')\n",
      "(0.15, 'g', 'MODIFIED')\n",
      "(0.15, 'retrieval', 'START RETRIEVAL')\n",
      "(0.15, 'PROCEDURAL', 'CONFLICT RESOLUTION')\n",
      "(0.15, 'PROCEDURAL', 'NO RULE FOUND')\n",
      "(0.2, 'retrieval', 'CLEARED')\n",
      "(0.2, 'retrieval', 'RETRIEVED: countOrder(first=3, second=4)')\n",
      "(0.2, 'PROCEDURAL', 'CONFLICT RESOLUTION')\n",
      "(0.2, 'PROCEDURAL', 'RULE SELECTED: increment')\n",
      "(0.25, 'PROCEDURAL', 'RULE FIRED: increment')\n",
      "(0.25, 'g', 'MODIFIED')\n",
      "(0.25, 'retrieval', 'START RETRIEVAL')\n",
      "(0.25, 'PROCEDURAL', 'CONFLICT RESOLUTION')\n",
      "(0.25, 'PROCEDURAL', 'RULE SELECTED: stop')\n",
      "(0.3, 'retrieval', 'CLEARED')\n",
      "(0.3, 'PROCEDURAL', 'RULE FIRED: stop')\n",
      "(0.3, 'retrieval', 'RETRIEVED: countOrder(first=4, second=5)')\n",
      "(0.3, 'g', 'EXECUTED')\n",
      "(0.3, 'PROCEDURAL', 'CONFLICT RESOLUTION')\n",
      "(0.3, 'PROCEDURAL', 'NO RULE FOUND')\n"
     ]
    }
   ],
   "source": [
    "sim = counting.simulation()\n",
    "sim.run()"
   ]
  },
  {
   "cell_type": "markdown",
   "metadata": {},
   "source": [
    "## Breaking the model into parts"
   ]
  },
  {
   "cell_type": "markdown",
   "metadata": {},
   "source": [
    "The model is an instance of ACTRModel class. The model makes use of three parts: a declarative memory module, the goal module and procedural knowledge."
   ]
  },
  {
   "cell_type": "markdown",
   "metadata": {},
   "source": [
    "Declarative memory is an instance of class DecMem (DecMem allows an optional argument, the set --or dictionary-- of chunks that are in the declarative memory). Thus, the following command instantiates *dm* as a (empty) declarative memory:"
   ]
  },
  {
   "cell_type": "code",
   "execution_count": 4,
   "metadata": {
    "collapsed": true
   },
   "outputs": [],
   "source": [
    "dm = counting.DecMem()"
   ]
  },
  {
   "cell_type": "markdown",
   "metadata": {},
   "source": [
    "Declarative memory standardly communicates with procedural knowledge via a retrieval buffer, which has to be instantiated, as well. To instantiate the buffer of *dm*:"
   ]
  },
  {
   "cell_type": "code",
   "execution_count": 5,
   "metadata": {
    "collapsed": false
   },
   "outputs": [
    {
     "data": {
      "text/plain": [
       "set()"
      ]
     },
     "execution_count": 5,
     "metadata": {},
     "output_type": "execute_result"
    }
   ],
   "source": [
    "counting.dmBuffer(\"retrieval\", dm)"
   ]
  },
  {
   "cell_type": "markdown",
   "metadata": {},
   "source": [
    "The method \"dmBuffer\" takes two obligatory arguments and one optional one. The obligatory arguments are \"name\" and \"declarative_memory\". \"name\" specifies the name that will be used in production rules to call retrieval. In this case, we call the retrieval \"retrieval\" but we could be more original, as long as we stay consistent within the model."
   ]
  },
  {
   "cell_type": "markdown",
   "metadata": {},
   "source": [
    "The other argument specifies to what declarative memory the buffer should be bound (i.e., from what memory it should retrieve and to what memory it has to clear). In our case, the choice is simple, since we only have one memory moduleat this point - dm."
   ]
  },
  {
   "cell_type": "markdown",
   "metadata": {},
   "source": [
    "The goal module is created by calling the method \"goal\". Again, \"name\" has to be specified under which the goal would be called in productions."
   ]
  },
  {
   "cell_type": "code",
   "execution_count": 6,
   "metadata": {
    "collapsed": false
   },
   "outputs": [],
   "source": [
    "g = counting.goal(\"g\")"
   ]
  },
  {
   "cell_type": "markdown",
   "metadata": {},
   "source": [
    "Finally, procedural knowledge consists of production rules, which are functions creating generators. We will discuss them shortly."
   ]
  },
  {
   "cell_type": "markdown",
   "metadata": {},
   "source": [
    "## Chunks"
   ]
  },
  {
   "cell_type": "markdown",
   "metadata": {},
   "source": [
    "Chunks are attribute-value matrices, building blocks of declarative knowledge. There are two ways to create a chunk:"
   ]
  },
  {
   "cell_type": "markdown",
   "metadata": {},
   "source": [
    "1. First, specify a chunk type and all attributes it carries. The name of the chunk type (corresponding to ISA attribute in ACT-R) is written first, followed by an iterable of attributes (or the string of attributes, separated by commas). For example, to specify a chunk type \"capital\" which will have two attributes, \"state\" and \"city\" (it will store the knowledge of what city is the capital of what state), we write:"
   ]
  },
  {
   "cell_type": "code",
   "execution_count": 7,
   "metadata": {
    "collapsed": true
   },
   "outputs": [],
   "source": [
    "counting.chunktype(\"capital\", \"state, city\")"
   ]
  },
  {
   "cell_type": "markdown",
   "metadata": {},
   "source": [
    "Then, write a chunk belonging to the chunk type. For example, if we want a chunk representing someone's knowledge of the capital of USA:"
   ]
  },
  {
   "cell_type": "code",
   "execution_count": 8,
   "metadata": {
    "collapsed": true
   },
   "outputs": [],
   "source": [
    "usacapital = counting.Chunk(\"capital\", state=\"USA\", city=\"Washington\")"
   ]
  },
  {
   "cell_type": "markdown",
   "metadata": {},
   "source": [
    "2. It is also possible to type a chunk directly. For example, if we want to have a chunk representing our knowledge of the current president of USA:"
   ]
  },
  {
   "cell_type": "code",
   "execution_count": 9,
   "metadata": {
    "collapsed": false
   },
   "outputs": [
    {
     "name": "stderr",
     "output_type": "stream",
     "text": [
      "/home/jakub/Dropbox/Documents/moje/computations and corpora/python/pyactr/pyactr/chunks.py:96: UserWarning: Chunk type president was not defined; added automatically\n",
      "  warnings.warn(\"Chunk type %s was not defined; added automatically\" % typename)\n"
     ]
    }
   ],
   "source": [
    "usapresident = counting.Chunk(\"president\", state=\"USA\", name=\"Barack Obama\")"
   ]
  },
  {
   "cell_type": "markdown",
   "metadata": {},
   "source": [
    "Specifying a chunk type is optional. However, it is recommended, as doing so might clarify what kind of attribute-value matrices you will need in your model. Notice also that if you don't specify the chunk type that your chunk uses, Python prints a warning message. This might help you debug your code (e.g., if you accidentaly named your chunk \"ppresident\", you would get a warning message that a new chunk type has been created - probably, not what you wanted). (If you don't want warning messages to be printed, you can suppress them by importing the package warnings and specifiying warnings.simplefilter(\"false\"), or by passing ignore to -W when running Python. (See Python documentation for more on warnings.)"
   ]
  },
  {
   "cell_type": "markdown",
   "metadata": {},
   "source": [
    "It is recommended that you only use attributes you defined first (or you used in the first chunk of a particular type). However, you can always add new attributes along the way (it is assumed that other chunks up to now had no value for those attributes in that case). For example, here is a chunk usapresident2, which is like usapresident but it adds the information about the years of presidency:"
   ]
  },
  {
   "cell_type": "code",
   "execution_count": 10,
   "metadata": {
    "collapsed": false
   },
   "outputs": [
    {
     "name": "stderr",
     "output_type": "stream",
     "text": [
      "/home/jakub/Dropbox/Documents/moje/computations and corpora/python/pyactr/pyactr/chunks.py:91: UserWarning: Chunk type president is extended with new attributes\n",
      "  warnings.warn(\"Chunk type %s is extended with new attributes\" % typename)\n"
     ]
    }
   ],
   "source": [
    "usapresident2 = counting.Chunk(\"president\", state=\"USA\", name=\"Barack Obama\", years=\"2009-2017\")"
   ]
  },
  {
   "cell_type": "markdown",
   "metadata": {},
   "source": [
    "Notice that creating this chunk prints a warning that you extended the original chunk type president with new attributes (this might again help you debug your code)."
   ]
  },
  {
   "cell_type": "markdown",
   "metadata": {},
   "source": [
    "We can see that the last two chunks could be matched, that is, usapresident2 has the same attribute-value pairs as usapresident, plus something extra:"
   ]
  },
  {
   "cell_type": "code",
   "execution_count": 11,
   "metadata": {
    "collapsed": false
   },
   "outputs": [
    {
     "data": {
      "text/plain": [
       "True"
      ]
     },
     "execution_count": 11,
     "metadata": {},
     "output_type": "execute_result"
    }
   ],
   "source": [
    "usapresident < usapresident2"
   ]
  },
  {
   "cell_type": "markdown",
   "metadata": {},
   "source": [
    "The name of chunktype corresponds to ISA-attribute in ACT-R. In LispACT-R, version 6, this attribute is a \"syntactic sugar\" and plays no role in determining how one chunk compares to another. This is true here, too. See:"
   ]
  },
  {
   "cell_type": "code",
   "execution_count": 12,
   "metadata": {
    "collapsed": false
   },
   "outputs": [
    {
     "data": {
      "text/plain": [
       "True"
      ]
     },
     "execution_count": 12,
     "metadata": {},
     "output_type": "execute_result"
    }
   ],
   "source": [
    "import warnings\n",
    "\n",
    "warnings.simplefilter(\"ignore\")\n",
    "usainhabitant = counting.Chunk(\"inhabitant\", state=\"USA\", name=\"Barack Obama\")\n",
    "usainhabitant < usapresident2"
   ]
  },
  {
   "cell_type": "markdown",
   "metadata": {},
   "source": [
    "Still, you have to specify some kind of name for the chunk you want to create."
   ]
  },
  {
   "cell_type": "markdown",
   "metadata": {},
   "source": [
    "## Adding chunks to modules"
   ]
  },
  {
   "cell_type": "markdown",
   "metadata": {},
   "source": [
    "Chunks can be added to declarative memory using the method add. The following code adds our last chunk to *dm* and checks that it's there:"
   ]
  },
  {
   "cell_type": "code",
   "execution_count": 13,
   "metadata": {
    "collapsed": false
   },
   "outputs": [
    {
     "data": {
      "text/plain": [
       "{president(years=2009-2017, state=USA, name=Barack Obama): {0.0}}"
      ]
     },
     "execution_count": 13,
     "metadata": {},
     "output_type": "execute_result"
    }
   ],
   "source": [
    "dm.add(usapresident2)\n",
    "dm"
   ]
  },
  {
   "cell_type": "markdown",
   "metadata": {},
   "source": [
    "It might be tiresome (and error-prone) to add chunks one by one to a memory. In the count model, we used a loop for that:"
   ]
  },
  {
   "cell_type": "code",
   "execution_count": 14,
   "metadata": {
    "collapsed": true
   },
   "outputs": [],
   "source": [
    "for i in range(1, 6):\n",
    "    dm.add(counting.Chunk(\"countOrder\", first=i, second=i+1))"
   ]
  },
  {
   "cell_type": "markdown",
   "metadata": {},
   "source": [
    "This adds chunks \"countOrder\" with two attributes, *first* - having numbers 1 to 5, and *second* - having the number *first* + 1. All the chunks can be inspected in dm:"
   ]
  },
  {
   "cell_type": "code",
   "execution_count": 15,
   "metadata": {
    "collapsed": false
   },
   "outputs": [
    {
     "data": {
      "text/plain": [
       "{president(years=2009-2017, state=USA, name=Barack Obama): {0.0}, countOrder(first=5, second=6): {0.0}, countOrder(first=1, second=2): {0.0}, countOrder(first=4, second=5): {0.0}, countOrder(first=3, second=4): {0.0}, countOrder(first=2, second=3): {0.0}}"
      ]
     },
     "execution_count": 15,
     "metadata": {},
     "output_type": "execute_result"
    }
   ],
   "source": [
    "dm"
   ]
  },
  {
   "cell_type": "markdown",
   "metadata": {},
   "source": [
    "Adding a chunk to the goal module is similar:"
   ]
  },
  {
   "cell_type": "code",
   "execution_count": 16,
   "metadata": {
    "collapsed": false
   },
   "outputs": [
    {
     "data": {
      "text/plain": [
       "{countFrom(start=2, end=4, count=None)}"
      ]
     },
     "execution_count": 16,
     "metadata": {},
     "output_type": "execute_result"
    }
   ],
   "source": [
    "g.add(counting.Chunk(\"countFrom\", start=2, end=4))\n",
    "g"
   ]
  },
  {
   "cell_type": "markdown",
   "metadata": {},
   "source": [
    "## Procedural knowledge"
   ]
  },
  {
   "cell_type": "markdown",
   "metadata": {},
   "source": [
    "Procedural knowledge consists of production rules. These are functions creating generators. Each function has two yields. The first yield specifies buffer tests. If the tests are passed then production receives the second yield, which specifies actions (buffer changes and requests)."
   ]
  },
  {
   "cell_type": "markdown",
   "metadata": {},
   "source": [
    "Production rules have to be added to the model, by calling its method productions:"
   ]
  },
  {
   "cell_type": "code",
   "execution_count": 17,
   "metadata": {
    "collapsed": true
   },
   "outputs": [],
   "source": [
    "counting.productions(start, increment, stop)"
   ]
  },
  {
   "cell_type": "markdown",
   "metadata": {},
   "source": [
    "### Buffer tests"
   ]
  },
  {
   "cell_type": "markdown",
   "metadata": {},
   "source": [
    "Every yield has to yield a dictionary. The dictionary has, as its keys, buffers (in our case, either *retrieval* or *g*), prefixed by a symbol specifying what should be done with the buffer. In buffer tests, a buffer is often prefixed with \"=\". This indicates that the buffer will be tested against the chunk that follows. For example:"
   ]
  },
  {
   "cell_type": "code",
   "execution_count": 18,
   "metadata": {
    "collapsed": false
   },
   "outputs": [
    {
     "data": {
      "text/plain": [
       "{'=g': countFrom(start=2, end=None, count=None)}"
      ]
     },
     "execution_count": 18,
     "metadata": {},
     "output_type": "execute_result"
    }
   ],
   "source": [
    "{\"=g\": counting.Chunk(\"countFrom\", start=2)}"
   ]
  },
  {
   "cell_type": "markdown",
   "metadata": {},
   "source": [
    "This tests whether the chunk in the goal buffer has value 2 in the attribute start. If this is so, production would proceed to the second yield (actions)."
   ]
  },
  {
   "cell_type": "markdown",
   "metadata": {},
   "source": [
    "In tests, one can specify whether an attribute carries a particular value (like the value 2 above). Alternatively, it could be specified that an attribute carries no value. This is done using the keyword None. Finally, the value of an attribute could be assigned a variable, which is done by prefixing \"=\" to the name of the variable. The scope of the variable is the production rule - thus within one production rule, any variable will keep the same value. For example, the buffer test below requires that the goal buffer has a chunk in which start and end attributes carry the same value. (Notice that variables are written as strings. This is necessary - otherwise, we would end up with a syntactically illicit line from the perspective of Python.)"
   ]
  },
  {
   "cell_type": "code",
   "execution_count": 19,
   "metadata": {
    "collapsed": false
   },
   "outputs": [
    {
     "data": {
      "text/plain": [
       "{'=g': countFrom(start==x, end==x, count=None)}"
      ]
     },
     "execution_count": 19,
     "metadata": {},
     "output_type": "execute_result"
    }
   ],
   "source": [
    "{\"=g\": counting.Chunk(\"countFrom\", start=\"=x\", end=\"=x\")}"
   ]
  },
  {
   "cell_type": "markdown",
   "metadata": {},
   "source": [
    "Variables and values can be prefixed by \"~\". This is negation (corresponding to \"-\" in LispACT-R). For example, the following dictionary tests that the chunk in the goal buffer has a different value for start than for end."
   ]
  },
  {
   "cell_type": "code",
   "execution_count": 20,
   "metadata": {
    "collapsed": false
   },
   "outputs": [
    {
     "data": {
      "text/plain": [
       "{'=g': countFrom(start==x, end=~=x, count=None)}"
      ]
     },
     "execution_count": 20,
     "metadata": {},
     "output_type": "execute_result"
    }
   ],
   "source": [
    "{\"=g\": counting.Chunk(\"countFrom\", start=\"=x\", end=\"~=x\")}"
   ]
  },
  {
   "cell_type": "markdown",
   "metadata": {},
   "source": [
    "Finally, information can be combined. If this is so, values must be prefixed by \"!\". The example below states that the goal chunk must have 2 as its value, which is assigned to x, and a value different from 4 which is assigned to y."
   ]
  },
  {
   "cell_type": "code",
   "execution_count": 21,
   "metadata": {
    "collapsed": false
   },
   "outputs": [
    {
     "data": {
      "text/plain": [
       "{'=g': countFrom(start==x!2, end==y~!4, count=None)}"
      ]
     },
     "execution_count": 21,
     "metadata": {},
     "output_type": "execute_result"
    }
   ],
   "source": [
    "{\"=g\": counting.Chunk(\"countFrom\", start=\"=x!2\", end=\"=y~!4\")}"
   ]
  },
  {
   "cell_type": "markdown",
   "metadata": {},
   "source": [
    "A buffer does not need to be tested, it can be queried. This is done by prefixing the buffer with \"?\", and having a dictionary as its value."
   ]
  },
  {
   "cell_type": "code",
   "execution_count": 22,
   "metadata": {
    "collapsed": false
   },
   "outputs": [
    {
     "data": {
      "text/plain": [
       "{'?g': {'buffer': 'full'}}"
      ]
     },
     "execution_count": 22,
     "metadata": {},
     "output_type": "execute_result"
    }
   ],
   "source": [
    "{\"?g\": {\"buffer\": \"full\"}}"
   ]
  },
  {
   "cell_type": "markdown",
   "metadata": {},
   "source": [
    "This is true if the goal buffer has a chunk."
   ]
  },
  {
   "cell_type": "code",
   "execution_count": 23,
   "metadata": {
    "collapsed": false
   },
   "outputs": [
    {
     "data": {
      "text/plain": [
       "{'?g': {'buffer': 'empty'}}"
      ]
     },
     "execution_count": 23,
     "metadata": {},
     "output_type": "execute_result"
    }
   ],
   "source": [
    "{\"?g\": {\"buffer\": \"empty\"}}"
   ]
  },
  {
   "cell_type": "markdown",
   "metadata": {},
   "source": [
    "This is true if the goal buffer is empty (has no chunk)."
   ]
  },
  {
   "cell_type": "markdown",
   "metadata": {},
   "source": [
    "Other commands can test whether the buffer is busy etc. (for a more complete list, see Lisp ACT-R and later documents). Here are a few examples for retrieval."
   ]
  },
  {
   "cell_type": "code",
   "execution_count": 24,
   "metadata": {
    "collapsed": false
   },
   "outputs": [
    {
     "data": {
      "text/plain": [
       "{'?retrieval': {'state': 'free'}}"
      ]
     },
     "execution_count": 24,
     "metadata": {},
     "output_type": "execute_result"
    }
   ],
   "source": [
    "{\"?retrieval\": {\"state\": \"free\"}}"
   ]
  },
  {
   "cell_type": "markdown",
   "metadata": {},
   "source": [
    "This is true if the retrieval buffer is not working on retrieving a chunk."
   ]
  },
  {
   "cell_type": "code",
   "execution_count": 25,
   "metadata": {
    "collapsed": false
   },
   "outputs": [
    {
     "data": {
      "text/plain": [
       "{'?retrieval': {'state': 'busy'}}"
      ]
     },
     "execution_count": 25,
     "metadata": {},
     "output_type": "execute_result"
    }
   ],
   "source": [
    "{\"?retrieval\": {\"state\": \"busy\"}}"
   ]
  },
  {
   "cell_type": "markdown",
   "metadata": {},
   "source": [
    "This is true if the retrieval buffer is working on retrieving a chunk."
   ]
  },
  {
   "cell_type": "code",
   "execution_count": 26,
   "metadata": {
    "collapsed": false
   },
   "outputs": [
    {
     "data": {
      "text/plain": [
       "{'?retrieval': {'state': 'error'}}"
      ]
     },
     "execution_count": 26,
     "metadata": {},
     "output_type": "execute_result"
    }
   ],
   "source": [
    "{\"?retrieval\": {\"state\": \"error\"}}"
   ]
  },
  {
   "cell_type": "markdown",
   "metadata": {},
   "source": [
    "This is true if the last retrieval failed (the chunk was not found)."
   ]
  },
  {
   "cell_type": "markdown",
   "metadata": {},
   "source": [
    "### Buffer updates"
   ]
  },
  {
   "cell_type": "markdown",
   "metadata": {},
   "source": [
    "Every update is a dictionary. The dictionary has, as its keys, buffers (in our case, either \"retrieval\" or \"g\"), prefixed by a symbol specifying what should be happening to the buffer. In buffer updates, a buffer is often prefixed with \"=\". This indicates that the buffer chunk will be (immediately) modified. For example, the following dictionary requires that the goal buffer is modified in such a way that the attribute count receives the value assigned to x (whatever that is in the current production rule)."
   ]
  },
  {
   "cell_type": "code",
   "execution_count": 27,
   "metadata": {
    "collapsed": false
   },
   "outputs": [
    {
     "data": {
      "text/plain": [
       "{'=g': countFrom(start=None, end=None, count==x)}"
      ]
     },
     "execution_count": 27,
     "metadata": {},
     "output_type": "execute_result"
    }
   ],
   "source": [
    "{\"=g\":counting.Chunk(\"countFrom\", count=\"=x\")}"
   ]
  },
  {
   "cell_type": "markdown",
   "metadata": {},
   "source": [
    "The \"+\" sign indicates a buffer request. Standardly, this results in the module replacing one chunk in the buffer by another one. In case of *retrieval*, the request results in search of the declarative memory that the buffer connects to, and putting the correct chunk in the buffer (if one is found)."
   ]
  },
  {
   "cell_type": "code",
   "execution_count": 28,
   "metadata": {
    "collapsed": false
   },
   "outputs": [
    {
     "data": {
      "text/plain": [
       "{'+retrieval': countOrder(first==x, second=None)}"
      ]
     },
     "execution_count": 28,
     "metadata": {},
     "output_type": "execute_result"
    }
   ],
   "source": [
    "{\"+retrieval\": counting.Chunk(\"countOrder\", first=\"=x\")}"
   ]
  },
  {
   "cell_type": "markdown",
   "metadata": {},
   "source": [
    "The dictionary above requires that the retrieval buffer should get a chunk from dm that has the value of x as the value of the attribute \"first\"."
   ]
  },
  {
   "cell_type": "markdown",
   "metadata": {},
   "source": [
    "The third option is to prefix a buffer with \"~\". This requires that the buffer is cleared. For example, the following update would clear the retrieval buffer."
   ]
  },
  {
   "cell_type": "code",
   "execution_count": 29,
   "metadata": {
    "collapsed": false
   },
   "outputs": [
    {
     "data": {
      "text/plain": [
       "{'~retrieval': None}"
      ]
     },
     "execution_count": 29,
     "metadata": {},
     "output_type": "execute_result"
    }
   ],
   "source": [
    "{\"~retrieval\": None}"
   ]
  },
  {
   "cell_type": "markdown",
   "metadata": {},
   "source": [
    "As in LispACT-R, buffers are also cleared implicitly. If a retrieval requests a chunk, it is first cleared. Also, if a buffer is tested in buffer tests (first yield, prefixed with \"=\") but not in buffer updates, it is cleared (strict harvesting)."
   ]
  },
  {
   "cell_type": "markdown",
   "metadata": {},
   "source": [
    "Finally, a buffer can be executed. This is done by prefixing it with \"!\". Then, as the value, you have to have a sequence which has the name of the method as the first position, followed by a sequence of positional arguments (potentially empty)."
   ]
  },
  {
   "cell_type": "code",
   "execution_count": 30,
   "metadata": {
    "collapsed": false
   },
   "outputs": [
    {
     "data": {
      "text/plain": [
       "{'!g': ('clear', (0, {}))}"
      ]
     },
     "execution_count": 30,
     "metadata": {},
     "output_type": "execute_result"
    }
   ],
   "source": [
    "{\"!g\": (\"clear\", (0, counting.DecMem()))}"
   ]
  },
  {
   "cell_type": "markdown",
   "metadata": {},
   "source": [
    "This, for example, will clear the goal buffer at time 0 into a declarative memory created just for this occasion. This can be used, for example, if you want to clear a buffer without having the result in any declarative memory you care about."
   ]
  },
  {
   "cell_type": "markdown",
   "metadata": {},
   "source": [
    "## Running a model"
   ]
  },
  {
   "cell_type": "markdown",
   "metadata": {},
   "source": [
    "Simulation of the model can be created when the model is ready. Simulation itself does not run anything, it only prepares discrete event simulation. This can then be run with the method \"run\". The method specifies how many seconds it should run (1s is the default value)."
   ]
  },
  {
   "cell_type": "code",
   "execution_count": 31,
   "metadata": {
    "collapsed": false
   },
   "outputs": [
    {
     "name": "stdout",
     "output_type": "stream",
     "text": [
      "(0, 'PROCEDURAL', 'CONFLICT RESOLUTION')\n",
      "(0, 'PROCEDURAL', 'RULE SELECTED: start')\n",
      "(0.05, 'PROCEDURAL', 'RULE FIRED: start')\n",
      "(0.05, 'g', 'MODIFIED')\n",
      "(0.05, 'retrieval', 'START RETRIEVAL')\n",
      "(0.05, 'PROCEDURAL', 'CONFLICT RESOLUTION')\n",
      "(0.05, 'PROCEDURAL', 'NO RULE FOUND')\n",
      "(0.1, 'retrieval', 'CLEARED')\n",
      "(0.1, 'retrieval', 'RETRIEVED: countOrder(first=2, second=3)')\n",
      "(0.1, 'PROCEDURAL', 'CONFLICT RESOLUTION')\n",
      "(0.1, 'PROCEDURAL', 'RULE SELECTED: increment')\n",
      "(0.15, 'PROCEDURAL', 'RULE FIRED: increment')\n",
      "(0.15, 'g', 'MODIFIED')\n",
      "(0.15, 'retrieval', 'START RETRIEVAL')\n",
      "(0.15, 'PROCEDURAL', 'CONFLICT RESOLUTION')\n",
      "(0.15, 'PROCEDURAL', 'NO RULE FOUND')\n",
      "(0.2, 'retrieval', 'CLEARED')\n",
      "(0.2, 'retrieval', 'RETRIEVED: countOrder(first=3, second=4)')\n",
      "(0.2, 'PROCEDURAL', 'CONFLICT RESOLUTION')\n",
      "(0.2, 'PROCEDURAL', 'RULE SELECTED: increment')\n",
      "(0.25, 'PROCEDURAL', 'RULE FIRED: increment')\n",
      "(0.25, 'g', 'MODIFIED')\n",
      "(0.25, 'retrieval', 'START RETRIEVAL')\n",
      "(0.25, 'PROCEDURAL', 'CONFLICT RESOLUTION')\n",
      "(0.25, 'PROCEDURAL', 'RULE SELECTED: stop')\n",
      "(0.3, 'retrieval', 'CLEARED')\n",
      "(0.3, 'PROCEDURAL', 'RULE FIRED: stop')\n",
      "(0.3, 'retrieval', 'RETRIEVED: countOrder(first=4, second=5)')\n",
      "(0.3, 'g', 'EXECUTED')\n",
      "(0.3, 'PROCEDURAL', 'CONFLICT RESOLUTION')\n",
      "(0.3, 'PROCEDURAL', 'NO RULE FOUND')\n"
     ]
    }
   ],
   "source": [
    "counting = ACTRModel()\n",
    "\n",
    "counting.chunktype(\"countOrder\", \"first, second\")\n",
    "\n",
    "dm = counting.DecMem()\n",
    "#this creates declarative memory\n",
    "\n",
    "for i in range(1, 6):\n",
    "    dm.add(counting.Chunk(\"countOrder\", first=i, second=i+1))\n",
    "    #adding chunks to declarative memory\n",
    "\n",
    "counting.dmBuffer(\"retrieval\", dm)\n",
    "#creating buffer for dm\n",
    "    \n",
    "g = counting.goal(\"g\")\n",
    "#creating goal buffer\n",
    "\n",
    "counting.chunktype(\"countFrom\", (\"start\", \"end\", \"count\"))\n",
    "g.add(counting.Chunk(\"countFrom\", start=2, end=4))\n",
    "#adding stuff to goal buffer\n",
    "\n",
    "    \n",
    "def start():\n",
    "    yield {\"=g\":counting.Chunk(\"countFrom\", start=\"=x\", count=None)}\n",
    "    yield {\"=g\":counting.Chunk(\"countFrom\", count=\"=x\"),\n",
    "                \"+retrieval\": counting.Chunk(\"countOrder\", first=\"=x\")}\n",
    "\n",
    "\n",
    "def increment():\n",
    "    yield {\"=g\":counting.Chunk(\"countFrom\", count=\"=x\", end=\"~=x\"),\n",
    "                \"=retrieval\": counting.Chunk(\"countOrder\", first=\"=x\", second=\"=y\")}\n",
    "    yield {\"=g\":counting.Chunk(\"countFrom\", count=\"=y\"),\n",
    "                \"+retrieval\": counting.Chunk(\"countOrder\", first=\"=y\")}\n",
    "\n",
    "def stop():\n",
    "    yield {\"=g\":counting.Chunk(\"countFrom\", count=\"=x\", end=\"=x\")}\n",
    "    yield {\"!g\": (\"clear\", (0, counting.DecMem()))}\n",
    "\n",
    "counting.productions(start, increment, stop)\n",
    "\n",
    "sim = counting.simulation()\n",
    "sim.run()\n"
   ]
  },
  {
   "cell_type": "markdown",
   "metadata": {},
   "source": [
    "The \"run\" method outputs the trace of the model. Each line represents an event. The first value is the time (in seconds) at which the event took place, the second value specifies what submodule is targeted in the event, the third value is the action that took place."
   ]
  },
  {
   "cell_type": "markdown",
   "metadata": {},
   "source": [
    "Notice that the model stopped at 0.3 seconds (and it did not run until reaching 1 second). This is because there were no events left to consider."
   ]
  },
  {
   "cell_type": "markdown",
   "metadata": {},
   "source": [
    "## Stepping through a model"
   ]
  },
  {
   "cell_type": "markdown",
   "metadata": {},
   "source": [
    "Alternatively, it is possible to proceed step by step through the model simulation, by using method step."
   ]
  },
  {
   "cell_type": "code",
   "execution_count": 32,
   "metadata": {
    "collapsed": false
   },
   "outputs": [],
   "source": [
    "counting = ACTRModel()\n",
    "\n",
    "counting.chunktype(\"countOrder\", \"first, second\")\n",
    "\n",
    "dm = counting.DecMem()\n",
    "#this creates declarative memory\n",
    "\n",
    "for i in range(1, 6):\n",
    "    dm.add(counting.Chunk(\"countOrder\", first=i, second=i+1))\n",
    "    #adding chunks to declarative memory\n",
    "\n",
    "retrieval = counting.dmBuffer(\"retrieval\", dm)\n",
    "#creating buffer for dm\n",
    "    \n",
    "g = counting.goal(\"g\")\n",
    "#creating goal buffer\n",
    "\n",
    "counting.chunktype(\"countFrom\", (\"start\", \"end\", \"count\"))\n",
    "g.add(counting.Chunk(\"countFrom\", start=2, end=4))\n",
    "#adding stuff to goal buffer\n",
    "\n",
    "    \n",
    "def start():\n",
    "    yield {\"=g\":counting.Chunk(\"countFrom\", start=\"=x\", count=None)}\n",
    "    yield {\"=g\":counting.Chunk(\"countFrom\", count=\"=x\"),\n",
    "                \"+retrieval\": counting.Chunk(\"countOrder\", first=\"=x\")}\n",
    "\n",
    "\n",
    "def increment():\n",
    "    yield {\"=g\":counting.Chunk(\"countFrom\", count=\"=x\", end=\"~=x\"),\n",
    "                \"=retrieval\": counting.Chunk(\"countOrder\", first=\"=x\", second=\"=y\")}\n",
    "    yield {\"=g\":counting.Chunk(\"countFrom\", count=\"=y\"),\n",
    "                \"+retrieval\": counting.Chunk(\"countOrder\", first=\"=y\")}\n",
    "\n",
    "def stop():\n",
    "    yield {\"=g\":counting.Chunk(\"countFrom\", count=\"=x\", end=\"=x\")}\n",
    "    yield {\"!g\": (\"clear\", (0, counting.DecMem()))}\n",
    "\n",
    "counting.productions(start, increment, stop)\n",
    "\n",
    "sim = counting.simulation()\n",
    "\n"
   ]
  },
  {
   "cell_type": "markdown",
   "metadata": {},
   "source": [
    "Using this method allows one to check every step in the simulation."
   ]
  },
  {
   "cell_type": "code",
   "execution_count": 33,
   "metadata": {
    "collapsed": false
   },
   "outputs": [],
   "source": [
    "sim.step()"
   ]
  },
  {
   "cell_type": "markdown",
   "metadata": {},
   "source": [
    "We can go on for a while."
   ]
  },
  {
   "cell_type": "code",
   "execution_count": 34,
   "metadata": {
    "collapsed": false
   },
   "outputs": [
    {
     "name": "stdout",
     "output_type": "stream",
     "text": [
      "(0, 'PROCEDURAL', 'CONFLICT RESOLUTION')\n",
      "(0, 'PROCEDURAL', 'RULE SELECTED: start')\n",
      "(0.05, 'PROCEDURAL', 'RULE FIRED: start')\n",
      "(0.05, 'g', 'MODIFIED')\n"
     ]
    }
   ],
   "source": [
    "for _ in range(1, 10):\n",
    "    sim.step()"
   ]
  },
  {
   "cell_type": "markdown",
   "metadata": {},
   "source": [
    "We can also inspect what is happening to pieces of the model. For this reason, we bound goal and retrieval buffers to corresponding variables. So we can check them now."
   ]
  },
  {
   "cell_type": "code",
   "execution_count": 35,
   "metadata": {
    "collapsed": false
   },
   "outputs": [
    {
     "data": {
      "text/plain": [
       "{countFrom(start=2, end=4, count=2)}"
      ]
     },
     "execution_count": 35,
     "metadata": {},
     "output_type": "execute_result"
    }
   ],
   "source": [
    "g"
   ]
  },
  {
   "cell_type": "code",
   "execution_count": 36,
   "metadata": {
    "collapsed": false
   },
   "outputs": [
    {
     "data": {
      "text/plain": [
       "set()"
      ]
     },
     "execution_count": 36,
     "metadata": {},
     "output_type": "execute_result"
    }
   ],
   "source": [
    "retrieval"
   ]
  },
  {
   "cell_type": "markdown",
   "metadata": {},
   "source": [
    "Nothing much interesting at this part, but we can proceed to some more interesting part (for example, the moment of the first retrieval)."
   ]
  },
  {
   "cell_type": "code",
   "execution_count": 37,
   "metadata": {
    "collapsed": false
   },
   "outputs": [
    {
     "name": "stdout",
     "output_type": "stream",
     "text": [
      "(0.05, 'retrieval', 'START RETRIEVAL')\n"
     ]
    }
   ],
   "source": [
    "while True:\n",
    "    sim.step()\n",
    "    if counting.current_event.proc == 'retrieval':\n",
    "        break\n"
   ]
  },
  {
   "cell_type": "markdown",
   "metadata": {},
   "source": [
    "And we can investigate the current buffers."
   ]
  },
  {
   "cell_type": "code",
   "execution_count": 38,
   "metadata": {
    "collapsed": false
   },
   "outputs": [
    {
     "data": {
      "text/plain": [
       "{countFrom(start=2, end=4, count=2)}"
      ]
     },
     "execution_count": 38,
     "metadata": {},
     "output_type": "execute_result"
    }
   ],
   "source": [
    "g"
   ]
  },
  {
   "cell_type": "markdown",
   "metadata": {},
   "source": [
    "As you can see, the goal buffer is changed compared to the beginning, as it should be because it was now modified by firing the rule \"start\". The retrieval buffer is still empty (because the retrieval only started, nothing was retrieved yet). We can move to the point at which retrieval is done to see what was retrieved."
   ]
  },
  {
   "cell_type": "code",
   "execution_count": 39,
   "metadata": {
    "collapsed": false
   },
   "outputs": [
    {
     "name": "stdout",
     "output_type": "stream",
     "text": [
      "(0.05, 'PROCEDURAL', 'CONFLICT RESOLUTION')\n",
      "(0.05, 'PROCEDURAL', 'NO RULE FOUND')\n",
      "(0.1, 'retrieval', 'CLEARED')\n",
      "(0.1, 'retrieval', 'RETRIEVED: countOrder(first=2, second=3)')\n"
     ]
    }
   ],
   "source": [
    "while True:\n",
    "    sim.step()\n",
    "    if counting.current_event.action == \"RETRIEVED: countOrder(first=2, second=3)\":\n",
    "        break"
   ]
  },
  {
   "cell_type": "code",
   "execution_count": 40,
   "metadata": {
    "collapsed": false
   },
   "outputs": [
    {
     "data": {
      "text/plain": [
       "{countOrder(first=2, second=3)}"
      ]
     },
     "execution_count": 40,
     "metadata": {},
     "output_type": "execute_result"
    }
   ],
   "source": [
    "retrieval"
   ]
  },
  {
   "cell_type": "markdown",
   "metadata": {},
   "source": [
    "Correctly, the retrieval buffer now carries the right chunk, given the conditions on retrieval specified in \"start\"."
   ]
  },
  {
   "cell_type": "markdown",
   "metadata": {},
   "source": [
    "# Further examples"
   ]
  },
  {
   "cell_type": "markdown",
   "metadata": {},
   "source": [
    "More examples of models are in the folder tutorials. These are the same models as in LispACT-R. (Their output closely matches that of LispACT-R, the main difference is that the trace of these models is less detailed than the trace of LispACT-R.)"
   ]
  }
 ],
 "metadata": {
  "kernelspec": {
   "display_name": "Python 3",
   "language": "python",
   "name": "python3"
  },
  "language_info": {
   "codemirror_mode": {
    "name": "ipython",
    "version": 3
   },
   "file_extension": ".py",
   "mimetype": "text/x-python",
   "name": "python",
   "nbconvert_exporter": "python",
   "pygments_lexer": "ipython3",
   "version": "3.4.3"
  }
 },
 "nbformat": 4,
 "nbformat_minor": 0
}
